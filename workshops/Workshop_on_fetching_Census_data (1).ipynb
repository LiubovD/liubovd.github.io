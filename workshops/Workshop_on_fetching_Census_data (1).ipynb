{
  "nbformat": 4,
  "nbformat_minor": 0,
  "metadata": {
    "colab": {
      "provenance": []
    },
    "kernelspec": {
      "name": "python3",
      "display_name": "Python 3"
    },
    "language_info": {
      "name": "python"
    }
  },
  "cells": [
    {
      "cell_type": "markdown",
      "source": [
        "# **Fetching Census data**\n",
        "Author: Liubov Dumarevskaya\n",
        "\n",
        "GitHub page of the author: https://liubovd.github.io/\n",
        "\n",
        "Last Updated: June 13, 2025\n",
        "\n",
        "\n",
        "Description: This is the workflow aimed on fetching ASC data for Rhode Island per tract. You can choose different vairables and years.\n",
        "\n"
      ],
      "metadata": {
        "id": "QcnXy3e7hhmc"
      }
    },
    {
      "cell_type": "markdown",
      "source": [
        "**Make sure you run all the cells in the order!**"
      ],
      "metadata": {
        "id": "Pg-7iked1ZbL"
      }
    },
    {
      "cell_type": "markdown",
      "source": [
        "### **Run the next cell to download library of available variables:**"
      ],
      "metadata": {
        "id": "9LzfZAJ5Lh1f"
      }
    },
    {
      "cell_type": "code",
      "source": [
        "import pandas as pd\n",
        "url = 'https://raw.githubusercontent.com/LiubovD/liubovd.github.io/refs/heads/main/workshops/table_asc_for_workflow_modified.csv'\n",
        "df = pd.read_csv(url)\n",
        "my_dict = dict(zip(df.iloc[:, 1], df.iloc[:, 0]))\n",
        "print(my_dict)"
      ],
      "metadata": {
        "id": "xQpGAdGY1wlT"
      },
      "execution_count": null,
      "outputs": []
    },
    {
      "cell_type": "markdown",
      "source": [
        "### **Select variable to map:**"
      ],
      "metadata": {
        "id": "JWYR7ll2Ls42"
      }
    },
    {
      "cell_type": "code",
      "source": [
        "import ipywidgets as widgets\n",
        "from IPython.display import display\n",
        "\n",
        "dropdown = widgets.Dropdown(\n",
        "    options=[(desk, code) for desk, code in my_dict.items()],\n",
        "    description='Variable:',\n",
        "    style={'description_width': 'initial'},\n",
        "    layout=widgets.Layout(width='80%')\n",
        ")\n",
        "\n",
        "display(dropdown)"
      ],
      "metadata": {
        "id": "_-qy_T2oyTrO"
      },
      "execution_count": null,
      "outputs": []
    },
    {
      "cell_type": "markdown",
      "source": [
        "### **Set the desired year (2020-2023) and double-check your choosen parameters .**"
      ],
      "metadata": {
        "id": "YZdUAP9-g80C"
      }
    },
    {
      "cell_type": "code",
      "source": [
        "variable = dropdown.value\n",
        "year = input(\"Enter the year: \")\n",
        "url = f\"https://api.census.gov/data/{year}/acs/acs5\"\n",
        "print(\"Constructed URL:\", url)\n",
        "\n",
        "params = {\n",
        "    \"get\": f\"NAME,{variable}\",\n",
        "    \"for\": \"tract:*\",\n",
        "    \"in\": \"state:44\"  # Rhode Island\n",
        "}\n",
        "\n",
        "print(\"Constructed parameters:\", params)"
      ],
      "metadata": {
        "id": "eWBRNagUhEew"
      },
      "execution_count": null,
      "outputs": []
    },
    {
      "cell_type": "markdown",
      "source": [
        "### **Request data and check your dataset. Some of the variables are not available for all years for RI on the tract level, in this case you will get either None or -666666 value in the table.**"
      ],
      "metadata": {
        "id": "jpxYpnyIkrkI"
      }
    },
    {
      "cell_type": "code",
      "source": [
        "import requests\n",
        "response = requests.get(url, params=params)\n",
        "data = response.json()\n",
        "\n",
        "df = pd.DataFrame(data[1:], columns=data[0])\n",
        "print(df.head())"
      ],
      "metadata": {
        "id": "1NQ45xo2jaSR"
      },
      "execution_count": null,
      "outputs": []
    },
    {
      "cell_type": "markdown",
      "source": [
        "### **Add GEOID field which contains full tract information and allows to join table to map:**"
      ],
      "metadata": {
        "id": "ibw_tCOACxFo"
      }
    },
    {
      "cell_type": "code",
      "source": [
        "df['GEOID'] = df['state'] + df['county'] + df['tract']\n",
        "print(df)"
      ],
      "metadata": {
        "id": "3lNUQy2VCuiE"
      },
      "execution_count": null,
      "outputs": []
    },
    {
      "cell_type": "markdown",
      "source": [
        "### **Get information for population:**"
      ],
      "metadata": {
        "id": "EPAiP1OEqErA"
      }
    },
    {
      "cell_type": "code",
      "source": [
        "url_population = f\"https://api.census.gov/data/{year}/acs/acs5?get=NAME,B01001_001E&for=tract:*&in=state:44\"\n",
        "\n",
        "response = requests.get(url_population)\n",
        "pop_data = response.json()\n",
        "\n",
        "df_pop = pd.DataFrame(pop_data[1:], columns=pop_data[0])\\\n",
        "\n",
        "print(df_pop.head())"
      ],
      "metadata": {
        "id": "-32Q5UAWl0rm"
      },
      "execution_count": null,
      "outputs": []
    },
    {
      "cell_type": "markdown",
      "source": [
        "### **Add population numbers to the table:**"
      ],
      "metadata": {
        "id": "fvdesuXRs3W5"
      }
    },
    {
      "cell_type": "code",
      "source": [
        "df = df.merge(df_pop[['NAME', 'B01001_001E']], on='NAME', how='left')\n",
        "df = df.rename(columns={'B01001_001E': 'population'})\n",
        "print(df)"
      ],
      "metadata": {
        "id": "4BW-en1XqSmb"
      },
      "execution_count": null,
      "outputs": []
    },
    {
      "cell_type": "code",
      "source": [
        "df[variable] = pd.to_numeric(df[variable], errors='coerce')\n",
        "df['population'] = pd.to_numeric(df['population'], errors='coerce')\n",
        "df['rate'] = (df[variable]/df['population'])\n",
        "print(df.head())"
      ],
      "metadata": {
        "id": "m0G6AIMHvc6k"
      },
      "execution_count": null,
      "outputs": []
    },
    {
      "cell_type": "markdown",
      "source": [
        "### **Create a CSV table in your virtual Colab environment:**"
      ],
      "metadata": {
        "id": "h7dKn966xpKl"
      }
    },
    {
      "cell_type": "code",
      "source": [
        "df.to_csv(f\"ASC_RI_{variable}_{year}.csv\", index=False)"
      ],
      "metadata": {
        "id": "c_CPDnuLxogY"
      },
      "execution_count": null,
      "outputs": []
    },
    {
      "cell_type": "markdown",
      "source": [
        "### **Download the table to your computer.**"
      ],
      "metadata": {
        "id": "VIgRYkBNkbCH"
      }
    },
    {
      "cell_type": "code",
      "source": [
        "from google.colab import files\n",
        "files.download(f\"ASC_RI_{variable}_{year}.csv\")"
      ],
      "metadata": {
        "id": "hQUyINYkjs9E"
      },
      "execution_count": null,
      "outputs": []
    },
    {
      "cell_type": "markdown",
      "source": [
        "### **Skip next cell**"
      ],
      "metadata": {
        "id": "SqcIhIKJuHmR"
      }
    },
    {
      "cell_type": "code",
      "source": [
        "import geopandas as gpd\n",
        "\n",
        "input_file = \"https://liubovd.github.io/maps/ri_tract_with_area.geojson\"\n",
        "gdf = gpd.read_file(input_file)\n",
        "\n",
        "merged_gdf = gdf.merge(df, left_on='GEOID', right_on='GEOID', how='left')\n",
        "merged_gdf = merged_gdf.drop_duplicates(subset=['GEOID'])\n",
        "merged_gdf[variable] = pd.to_numeric(merged_gdf[variable], errors='coerce')\n",
        "merged_gdf[\"ALAND\"] = pd.to_numeric(merged_gdf[\"ALAND\"], errors='coerce')\n",
        "merged_gdf[\"rate\"] = (merged_gdf[variable] / merged_gdf[\"ALAND\"])*1000000\n",
        "print(merged_gdf.head())\n",
        "output_file = \"merged_tracts_RI.geojson\"\n",
        "\n",
        "print(f\"\\nSuccessfully saved merged data to {output_file}\")"
      ],
      "metadata": {
        "id": "6q5X1nrI7xCn"
      },
      "execution_count": null,
      "outputs": []
    },
    {
      "cell_type": "markdown",
      "source": [
        "### **Create a base map with tract polygons**"
      ],
      "metadata": {
        "id": "N-EArZBgx1Ah"
      }
    },
    {
      "cell_type": "markdown",
      "source": [
        "Choose whether you want to use rate per 100 000 people or direct number."
      ],
      "metadata": {
        "id": "4viVv99NQhBc"
      }
    },
    {
      "cell_type": "code",
      "source": [
        "import ipywidgets as widgets\n",
        "from IPython.display import display\n",
        "mapping_choice = widgets.ToggleButtons(\n",
        "    options=['Map rate',  'Map value'],\n",
        "    description='Choose:',\n",
        "    disabled=False,\n",
        "    button_style='',\n",
        "    tooltips=['Description of slow', 'Description of fast'],\n",
        ")\n",
        "display(mapping_choice)"
      ],
      "metadata": {
        "id": "TWvVWV3MQcnv"
      },
      "execution_count": null,
      "outputs": []
    },
    {
      "cell_type": "code",
      "source": [],
      "metadata": {
        "id": "OhXTk3JoSurK"
      },
      "execution_count": null,
      "outputs": []
    },
    {
      "cell_type": "code",
      "source": [
        "import folium\n",
        "\n",
        "if mapping_choice.value == 'Map rate':\n",
        "  value_to_map = \"rate\"\n",
        "else:\n",
        "  value_to_map = variable\n",
        "\n",
        "\n",
        "m = folium.Map(location=[41.58, -71.47], zoom_start=9)\n",
        "geojson_path = \"https://liubovd.github.io/maps/ri_tract_with_muni.geojson\"\n",
        "folium.GeoJson(geojson_path).add_to(m)\n",
        "\n",
        "folium.Choropleth(\n",
        "    geo_data=geojson_path,\n",
        "    name=\"Choropleth\",\n",
        "    data=df,\n",
        "    columns=[\"GEOID\", value_to_map],\n",
        "    key_on=\"feature.properties.GEOID\",\n",
        "    fill_color=\"YlOrRd\",\n",
        "    fill_opacity=0.7,\n",
        "    line_opacity=0.2,\n",
        "    legend_name=f\"{variable}_per_total population\",\n",
        "    highlight=True\n",
        ").add_to(m)\n",
        "\n",
        "m"
      ],
      "metadata": {
        "id": "V7W1hjMuMpwY"
      },
      "execution_count": null,
      "outputs": []
    }
  ]
}